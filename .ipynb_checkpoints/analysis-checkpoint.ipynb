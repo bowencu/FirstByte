{
 "cells": [
  {
   "cell_type": "markdown",
   "id": "0b0ab7ec-9ed1-4ffa-8656-329f5bb2aa86",
   "metadata": {},
   "source": [
    "# Objective\n",
    "- Filtered data, removing any errors\n",
    "- Summary of key findings from the dataset (3-5 visualizations) to better understand attrition\n",
    "- A clear statement of which subset* of individuals you believe to have the largest impact on employee turnover. This should be derived from the dataset.\n",
    "- A set of realistic and creative recommendations on how the company can best address the lack of sales in the identified products and how can the company increase profits.\n",
    "- They would also like you to outline what success looks like and how they would go about measuring the efficacy of your recommendations.\n",
    "- Nice to have: an explanation of your data analysis steps and how you came to your conclusions and outcomes"
   ]
  },
  {
   "cell_type": "markdown",
   "id": "4d39f95b-e18f-4d19-953e-b5a54191c56c",
   "metadata": {},
   "source": [
    " Use this data to determine which product is not selling, when they are not selling and any trends in demographic purchases as evidence to your solution to drive sales."
   ]
  },
  {
   "cell_type": "code",
   "execution_count": null,
   "id": "b3cf5009-ec8c-49b0-bd78-23c834fa466b",
   "metadata": {},
   "outputs": [],
   "source": []
  }
 ],
 "metadata": {
  "kernelspec": {
   "display_name": "Python 3 (ipykernel)",
   "language": "python",
   "name": "python3"
  },
  "language_info": {
   "codemirror_mode": {
    "name": "ipython",
    "version": 3
   },
   "file_extension": ".py",
   "mimetype": "text/x-python",
   "name": "python",
   "nbconvert_exporter": "python",
   "pygments_lexer": "ipython3",
   "version": "3.11.5"
  }
 },
 "nbformat": 4,
 "nbformat_minor": 5
}
